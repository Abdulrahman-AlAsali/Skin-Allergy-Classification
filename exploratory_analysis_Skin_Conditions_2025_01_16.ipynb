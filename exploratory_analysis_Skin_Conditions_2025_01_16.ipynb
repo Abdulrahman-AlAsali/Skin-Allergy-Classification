{
  "nbformat": 4,
  "nbformat_minor": 0,
  "metadata": {
    "colab": {
      "provenance": [],
      "authorship_tag": "ABX9TyPa9codh/rZzmm36QUGtvPy",
      "include_colab_link": true
    },
    "kernelspec": {
      "name": "python3",
      "display_name": "Python 3"
    },
    "language_info": {
      "name": "python"
    }
  },
  "cells": [
    {
      "cell_type": "markdown",
      "metadata": {
        "id": "view-in-github",
        "colab_type": "text"
      },
      "source": [
        "<a href=\"https://colab.research.google.com/github/Abdulrahman-AlAsali/Skin-Allergy-Classification/blob/main/exploratory_analysis_Skin_Conditions_2025_01_16.ipynb\" target=\"_parent\"><img src=\"https://colab.research.google.com/assets/colab-badge.svg\" alt=\"Open In Colab\"/></a>"
      ]
    },
    {
      "cell_type": "code",
      "execution_count": null,
      "metadata": {
        "id": "Ld_xCi11FXNo"
      },
      "outputs": [],
      "source": [
        "!pip install boto3"
      ]
    },
    {
      "cell_type": "code",
      "source": [
        "import os\n",
        "\n",
        "os.environ['AWS_ACCESS_KEY_ID'] = input('AWS KEY ID: ')\n",
        "os.environ['AWS_SECRET_ACCESS_KEY'] = input('AWS KEY SECRET: ')\n"
      ],
      "metadata": {
        "id": "ObB8D--uMMjG"
      },
      "execution_count": null,
      "outputs": []
    },
    {
      "cell_type": "code",
      "source": [
        "import boto3\n",
        "s3 = boto3.client('s3')"
      ],
      "metadata": {
        "id": "hXOFE8SLMGsu"
      },
      "execution_count": 10,
      "outputs": []
    },
    {
      "cell_type": "code",
      "source": [
        "bucket_name = 'ieee-dataport'\n",
        "object_key = 'data/29181/CNN_image_dataset.zip'\n",
        "local_file_name = 'CNN_image_dataset.zip'\n",
        "\n",
        "s3.download_file(bucket_name, object_key, local_file_name)\n",
        "print(f\"Downloaded {local_file_name}\")"
      ],
      "metadata": {
        "id": "_P17f4cQMRDA"
      },
      "execution_count": null,
      "outputs": []
    },
    {
      "cell_type": "code",
      "source": [
        "import zipfile\n",
        "\n",
        "output_dir = 'images'\n",
        "os.makedirs(output_dir, exist_ok=True)\n",
        "\n",
        "with zipfile.ZipFile(local_file_name, 'r') as zip_ref:\n",
        "    zip_ref.extractall(output_dir)\n",
        "\n",
        "!mv images/images/Measles/* images/images/Not_Measles/* images/\n",
        "!rm -rf images/images/"
      ],
      "metadata": {
        "id": "8KRl6FhbNkfi"
      },
      "execution_count": 42,
      "outputs": []
    },
    {
      "cell_type": "code",
      "source": [
        "!ls -l images/ | grep -v '^d' | wc -l"
      ],
      "metadata": {
        "id": "yx-kH02oQVGT"
      },
      "execution_count": null,
      "outputs": []
    }
  ]
}